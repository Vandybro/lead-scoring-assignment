{
 "cells": [
  {
   "cell_type": "code",
   "execution_count": null,
   "id": "d62fa4c6-0fd7-44c3-b055-2140b10e7dec",
   "metadata": {},
   "outputs": [],
   "source": [
    "# Lead Scoring Case Study"
   ]
  },
  {
   "cell_type": "code",
   "execution_count": null,
   "id": "1cf3e5ca-cb22-4337-bf6f-91c078741b38",
   "metadata": {},
   "outputs": [],
   "source": [
    "# Problem Statement\n",
    "\n",
    "An education company named X Education sells online courses to industry professionals. On any given day, many professionals who are interested in the courses land on their website and browse for courses. \n",
    "\n",
    "The company markets its courses on several websites and search engines like Google. Once these people land on the website, they might browse the courses or fill up a form for the course or watch some videos. When these people fill up a form providing their email address or phone number, they are classified to be a lead. Moreover, the company also gets leads through past referrals. Once these leads are acquired, employees from the sales team start making calls, writing emails, etc. Through this process, some of the leads get converted while most do not. The typical lead conversion rate at X education is around 30%.\n",
    "\n",
    "Now, although X Education gets a lot of leads, its lead conversion rate is very poor. For example, if, say, they acquire 100 leads in a day, only about 30 of them are converted. To make this process more efficient, the company wishes to identify the most potential leads, also known as ‘Hot Leads’. If they successfully identify this set of leads, the lead conversion rate should go up as the sales team will now be focusing more on communicating with the potential leads rather than making calls to everyone. \n",
    "\n",
    "There are a lot of leads generated in the initial stage (top) but only a few of them come out as paying customers from the bottom. In the middle stage, we need to nurture the potential leads well (i.e. educating the leads about the product, constantly communicating etc. ) in order to get a higher lead conversion.\n",
    "\n",
    "X Education has appointed me to help them select the most promising leads, i.e. the leads that are most likely to convert into paying customers. The company requires me to build a model wherein I'll need to assign a lead score to each of the leads such that the customers with higher lead score have a higher conversion chance and the customers with lower lead score have a lower conversion chance. The CEO, in particular, has given a ballpark of the target lead conversion rate to be around 80%.\n",
    "\n",
    "# Data\n",
    "You have been provided with a leads dataset from the past with around 9000 data points. This dataset consists of various attributes such as Lead Source, Total Time Spent on Website, Total Visits, Last Activity, etc. which may or may not be useful in ultimately deciding whether a lead will be converted or not. The target variable, in this case, is the column ‘Converted’ which tells whether a past lead was converted or not wherein 1 means it was converted and 0 means it wasn’t converted. You can learn more about the dataset from the data dictionary provided in the zip folder at the end of the page. Another thing that you also need to check out for are the levels present in the categorical variables. Many of the categorical variables have a level called 'Select' which needs to be handled because it is as good as a null value (think why?)."
   ]
  },
  {
   "cell_type": "code",
   "execution_count": null,
   "id": "dc9f0d86-6b89-4597-bd47-a34578e16dc0",
   "metadata": {},
   "outputs": [],
   "source": [
    "<h1>Table of Contents<span class=\"tocSkip\"></span></h1>\n",
    "<div class=\"toc\"><ul class=\"toc-item\"><li><span><a href=\"#Reading-and-Understanding-Data\" data-toc-modified-id=\"Reading-and-Understanding-Data-1\"><span class=\"toc-item-num\">1&nbsp;&nbsp;</span>Reading and Understanding Data</a></span></li><li><span><a href=\"#Data-Cleaning\" data-toc-modified-id=\"Data-Cleaning-2\"><span class=\"toc-item-num\">2&nbsp;&nbsp;</span>Data Cleaning</a></span><ul class=\"toc-item\"><li><span><a href=\"#Rename-column-names\" data-toc-modified-id=\"Rename-column-names-2.1\"><span class=\"toc-item-num\">2.1&nbsp;&nbsp;</span>Rename column names</a></span></li><li><span><a href=\"#Drop-prospect_id-column\" data-toc-modified-id=\"Drop-prospect_id-column-2.2\"><span class=\"toc-item-num\">2.2&nbsp;&nbsp;</span>Drop <code>prospect_id</code> column</a></span></li><li><span><a href=\"#Replace-&quot;Select&quot;-category-with-null-values\" data-toc-modified-id=\"Replace-&quot;Select&quot;-category-with-null-values-2.3\"><span class=\"toc-item-num\">2.3&nbsp;&nbsp;</span>Replace \"Select\" category with null values</a></span></li><li><span><a href=\"#Handle-null-values-and-sales-generated-columns\" data-toc-modified-id=\"Handle-null-values-and-sales-generated-columns-2.4\"><span class=\"toc-item-num\">2.4&nbsp;&nbsp;</span>Handle null values and sales generated columns</a></span><ul class=\"toc-item\"><li><span><a href=\"#Drop-columns-that-have-null-values->-40%-or-Sales-generated-columns\" data-toc-modified-id=\"Drop-columns-that-have-null-values->-40%-or-Sales-generated-columns-2.4.1\"><span class=\"toc-item-num\">2.4.1&nbsp;&nbsp;</span>Drop columns that have null values &gt; 40% or Sales generated columns</a></span></li><li><span><a href=\"#country-column\" data-toc-modified-id=\"country-column-2.4.2\"><span class=\"toc-item-num\">2.4.2&nbsp;&nbsp;</span><code>country</code> column</a></span></li><li><span><a href=\"#course_selection_reason-column\" data-toc-modified-id=\"course_selection_reason-column-2.4.3\"><span class=\"toc-item-num\">2.4.3&nbsp;&nbsp;</span><code>course_selection_reason</code> column</a></span></li><li><span><a href=\"#occupation-column\" data-toc-modified-id=\"occupation-column-2.4.4\"><span class=\"toc-item-num\">2.4.4&nbsp;&nbsp;</span><code>occupation</code> column</a></span></li><li><span><a href=\"#specialization-column\" data-toc-modified-id=\"specialization-column-2.4.5\"><span class=\"toc-item-num\">2.4.5&nbsp;&nbsp;</span><code>specialization</code> column</a></span></li><li><span><a href=\"#city-column\" data-toc-modified-id=\"city-column-2.4.6\"><span class=\"toc-item-num\">2.4.6&nbsp;&nbsp;</span><code>city</code> column</a></span></li></ul></li><li><span><a href=\"#Handle-categorical-columns-with-low-number-of-missing-values-and-low-representation-of-categories\" data-toc-modified-id=\"Handle-categorical-columns-with-low-number-of-missing-values-and-low-representation-of-categories-2.5\"><span class=\"toc-item-num\">2.5&nbsp;&nbsp;</span>Handle categorical columns with low number of missing values and low representation of categories</a></span><ul class=\"toc-item\"><li><span><a href=\"#lead_origin-column\" data-toc-modified-id=\"lead_origin-column-2.5.1\"><span class=\"toc-item-num\">2.5.1&nbsp;&nbsp;</span><code>lead_origin</code> column</a></span></li><li><span><a href=\"#lead_source-column\" data-toc-modified-id=\"lead_source-column-2.5.2\"><span class=\"toc-item-num\">2.5.2&nbsp;&nbsp;</span><code>lead_source</code> column</a></span></li></ul></li><li><span><a href=\"#Handle-Binary-columns\" data-toc-modified-id=\"Handle-Binary-columns-2.6\"><span class=\"toc-item-num\">2.6&nbsp;&nbsp;</span>Handle Binary columns</a></span></li><li><span><a href=\"#Handle-Numerical-columns\" data-toc-modified-id=\"Handle-Numerical-columns-2.7\"><span class=\"toc-item-num\">2.7&nbsp;&nbsp;</span>Handle Numerical columns</a></span><ul class=\"toc-item\"><li><span><a href=\"#lead_number-column:-change-datatype\" data-toc-modified-id=\"lead_number-column:-change-datatype-2.7.1\"><span class=\"toc-item-num\">2.7.1&nbsp;&nbsp;</span><code>lead_number</code> column: change datatype</a></span></li><li><span><a href=\"#total_visits-column\" data-toc-modified-id=\"total_visits-column-2.7.2\"><span class=\"toc-item-num\">2.7.2&nbsp;&nbsp;</span><code>total_visits</code> column</a></span></li><li><span><a href=\"#page_views_per_visit-column\" data-toc-modified-id=\"page_views_per_visit-column-2.7.3\"><span class=\"toc-item-num\">2.7.3&nbsp;&nbsp;</span><code>page_views_per_visit</code> column</a></span></li></ul></li></ul></li><li><span><a href=\"#Exploratory-Data-Analysis\" data-toc-modified-id=\"Exploratory-Data-Analysis-3\"><span class=\"toc-item-num\">3&nbsp;&nbsp;</span>Exploratory Data Analysis</a></span><ul class=\"toc-item\"><li><span><a href=\"#Numerical-columns\" data-toc-modified-id=\"Numerical-columns-3.1\"><span class=\"toc-item-num\">3.1&nbsp;&nbsp;</span>Numerical columns</a></span><ul class=\"toc-item\"><li><span><a href=\"#Heatmap\" data-toc-modified-id=\"Heatmap-3.1.1\"><span class=\"toc-item-num\">3.1.1&nbsp;&nbsp;</span>Heatmap</a></span></li><li><span><a href=\"#Check-for-outliers\" data-toc-modified-id=\"Check-for-outliers-3.1.2\"><span class=\"toc-item-num\">3.1.2&nbsp;&nbsp;</span>Check for outliers</a></span></li></ul></li><li><span><a href=\"#Categorical-columns\" data-toc-modified-id=\"Categorical-columns-3.2\"><span class=\"toc-item-num\">3.2&nbsp;&nbsp;</span>Categorical columns</a></span><ul class=\"toc-item\"><li><span><a href=\"#Lead-Origin\" data-toc-modified-id=\"Lead-Origin-3.2.1\"><span class=\"toc-item-num\">3.2.1&nbsp;&nbsp;</span>Lead Origin</a></span></li><li><span><a href=\"#Lead-Source\" data-toc-modified-id=\"Lead-Source-3.2.2\"><span class=\"toc-item-num\">3.2.2&nbsp;&nbsp;</span>Lead Source</a></span></li><li><span><a href=\"#Specialization\" data-toc-modified-id=\"Specialization-3.2.3\"><span class=\"toc-item-num\">3.2.3&nbsp;&nbsp;</span>Specialization</a></span></li><li><span><a href=\"#Occupation\" data-toc-modified-id=\"Occupation-3.2.4\"><span class=\"toc-item-num\">3.2.4&nbsp;&nbsp;</span>Occupation</a></span></li><li><span><a href=\"#City\" data-toc-modified-id=\"City-3.2.5\"><span class=\"toc-item-num\">3.2.5&nbsp;&nbsp;</span>City</a></span></li></ul></li></ul></li><li><span><a href=\"#Data-Preparation\" data-toc-modified-id=\"Data-Preparation-4\"><span class=\"toc-item-num\">4&nbsp;&nbsp;</span>Data Preparation</a></span><ul class=\"toc-item\"><li><span><a href=\"#Converting-Binary-(Yes/No)-to-0/1\" data-toc-modified-id=\"Converting-Binary-(Yes/No)-to-0/1-4.1\"><span class=\"toc-item-num\">4.1&nbsp;&nbsp;</span>Converting Binary (Yes/No) to 0/1</a></span></li><li><span><a href=\"#Creating-dummy-variable-for-categorical-columns\" data-toc-modified-id=\"Creating-dummy-variable-for-categorical-columns-4.2\"><span class=\"toc-item-num\">4.2&nbsp;&nbsp;</span>Creating dummy variable for categorical columns</a></span></li><li><span><a href=\"#Outliers-Treatment\" data-toc-modified-id=\"Outliers-Treatment-4.3\"><span class=\"toc-item-num\">4.3&nbsp;&nbsp;</span>Outliers Treatment</a></span></li><li><span><a href=\"#Test-Train-Split\" data-toc-modified-id=\"Test-Train-Split-4.4\"><span class=\"toc-item-num\">4.4&nbsp;&nbsp;</span>Test-Train Split</a></span></li><li><span><a href=\"#Feature-Scaling\" data-toc-modified-id=\"Feature-Scaling-4.5\"><span class=\"toc-item-num\">4.5&nbsp;&nbsp;</span>Feature Scaling</a></span></li><li><span><a href=\"#Looking-at-correlations\" data-toc-modified-id=\"Looking-at-correlations-4.6\"><span class=\"toc-item-num\">4.6&nbsp;&nbsp;</span>Looking at correlations</a></span><ul class=\"toc-item\"><li><span><a href=\"#Drop-highly-correlated-dummy-variables\" data-toc-modified-id=\"Drop-highly-correlated-dummy-variables-4.6.1\"><span class=\"toc-item-num\">4.6.1&nbsp;&nbsp;</span>Drop highly correlated dummy variables</a></span></li></ul></li></ul></li><li><span><a href=\"#Model-Building\" data-toc-modified-id=\"Model-Building-5\"><span class=\"toc-item-num\">5&nbsp;&nbsp;</span>Model Building</a></span><ul class=\"toc-item\"><li><span><a href=\"#Model-1:-All-variables\" data-toc-modified-id=\"Model-1:-All-variables-5.1\"><span class=\"toc-item-num\">5.1&nbsp;&nbsp;</span>Model 1: All variables</a></span></li><li><span><a href=\"#Feature-selection-using-RFE\" data-toc-modified-id=\"Feature-selection-using-RFE-5.2\"><span class=\"toc-item-num\">5.2&nbsp;&nbsp;</span>Feature selection using RFE</a></span></li><li><span><a href=\"#Model-2:-Assessing-the-model-with-statsmodel\" data-toc-modified-id=\"Model-2:-Assessing-the-model-with-statsmodel-5.3\"><span class=\"toc-item-num\">5.3&nbsp;&nbsp;</span>Model 2: Assessing the model with statsmodel</a></span></li></ul></li></ul></div>"
   ]
  },
  {
   "cell_type": "code",
   "execution_count": null,
   "id": "edeac30b-6980-431a-a107-2c1a22a7562c",
   "metadata": {},
   "outputs": [],
   "source": [
    "# basic libraries to work on the dataframe\n",
    "import pandas as pd\n",
    "import numpy as np\n",
    "# data Visualization libraries\n",
    "import matplotlib.pyplot as plt\n",
    "import seaborn as sns\n",
    "\n",
    "# libraries\n",
    "from sklearn.cluster import KMeans\n",
    "from sklearn.model_selection import train_test_split\n",
    "from sklearn.preprocessing import StandardScaler\n",
    "import statsmodels.api as sm\n",
    "from sklearn.linear_model import LogisticRegression\n",
    "from sklearn.feature_selection import RFE\n",
    "from statsmodels.stats.outliers_influence import variance_inflation_factor\n",
    "\n",
    "# Suppressing Warnings\n",
    "import warnings\n",
    "warnings.filterwarnings('ignore')\n",
    "\n",
    "#Increasing the columns views limit\n",
    "pd.options.display.max_columns = None\n",
    "pd.options.display.max_rows = 150\n",
    "pd.options.display.float_format = '{:.2f}'.format"
   ]
  },
  {
   "cell_type": "code",
   "execution_count": null,
   "id": "a2cb5987-c839-4456-9849-4b848834d9a4",
   "metadata": {},
   "outputs": [],
   "source": [
    "# Reading and underdtanding Data"
   ]
  },
  {
   "cell_type": "code",
   "execution_count": null,
   "id": "3d958a01-d288-4555-8428-da15e796ff75",
   "metadata": {},
   "outputs": [],
   "source": [
    "#Reading the data file using pandas\n",
    "df = pd.read_csv('Leads.csv')\n",
    "\n",
    "df.head()"
   ]
  },
  {
   "cell_type": "code",
   "execution_count": null,
   "id": "9d74cb1a-4c52-4407-bb99-d2f0d63dbc2f",
   "metadata": {},
   "outputs": [],
   "source": [
    "# check the shape of the dataset\n",
    "df.shape"
   ]
  },
  {
   "cell_type": "code",
   "execution_count": null,
   "id": "866c1396-a096-4d4a-a453-fd2b219503a9",
   "metadata": {},
   "outputs": [],
   "source": [
    "# check statistics for numerical columns\n",
    "df.describe()"
   ]
  },
  {
   "cell_type": "code",
   "execution_count": null,
   "id": "9214de1f-6b50-495a-b49b-d093115a6e72",
   "metadata": {},
   "outputs": [],
   "source": [
    "# check whether there are any duplicates\n",
    "df.duplicated().sum()"
   ]
  },
  {
   "cell_type": "code",
   "execution_count": null,
   "id": "98726ad7-0b00-46be-9171-d76e6a35d91f",
   "metadata": {},
   "outputs": [],
   "source": [
    "#Lets have a look at all the columns, their datatypes and also get an idea of null values present\n",
    "df.info()"
   ]
  },
  {
   "cell_type": "code",
   "execution_count": null,
   "id": "f69a7c86-407e-4e4b-9899-eaacbbdc9469",
   "metadata": {},
   "outputs": [],
   "source": [
    "**Observations**\n",
    "* A large number of columns have null values. Those columns should ideally be dropped\n",
    "* `Prospect ID` and `Lead Number` both serve the same purpose. They are both unique identifiers. We will drop `Prospect ID`\n",
    "* Column names are just too long. We will modify the column names\n",
    "* Few categorical columns have \"Select\" in their entries. Those select are essentially null values because Select appears when someone does not select anything from the dropdown"
   ]
  },
  {
   "cell_type": "code",
   "execution_count": null,
   "id": "f0d46139-bb2a-49db-ba2f-2210f338018f",
   "metadata": {},
   "outputs": [],
   "source": [
    "## Data Cleaning"
   ]
  },
  {
   "cell_type": "code",
   "execution_count": null,
   "id": "da082875-7597-4c0b-8cff-3ea62571c573",
   "metadata": {},
   "outputs": [],
   "source": [
    "### Rename column names\n",
    "\n",
    "* Long column names make analysis tiring as one has to always refer to column names. Also has impact on charts created later on\n",
    "* Ideally, we should follow python's preferred Snakecase nomenclature"
   ]
  },
  {
   "cell_type": "code",
   "execution_count": null,
   "id": "f1566dc1-2304-4cc9-a3b2-314f0492a583",
   "metadata": {},
   "outputs": [],
   "source": [
    "# change nomenclature to snakecase\n",
    "df.columns = df.columns.str.replace(' ', '_').str.lower()\n",
    "\n",
    "# test\n",
    "df.columns"
   ]
  },
  {
   "cell_type": "code",
   "execution_count": null,
   "id": "c25eaeb0-732f-4446-9b96-691284ea34f2",
   "metadata": {},
   "outputs": [],
   "source": [
    "# shorten column names\n",
    "df.rename(columns = {'totalvisits': 'total_visits', 'total_time_spent_on_website': 'time_on_website', \n",
    "                    'how_did_you_hear_about_x_education': 'source', 'what_is_your_current_occupation': 'occupation',\n",
    "                    'what_matters_most_to_you_in_choosing_a_course' : 'course_selection_reason', \n",
    "                    'receive_more_updates_about_our_courses': 'courses_updates', \n",
    "                     'update_me_on_supply_chain_content': 'supply_chain_content_updates',\n",
    "                    'get_updates_on_dm_content': 'dm_content_updates',\n",
    "                    'i_agree_to_pay_the_amount_through_cheque': 'cheque_payment',\n",
    "                    'a_free_copy_of_mastering_the_interview': 'mastering_interview'}, inplace = True)\n",
    "\n",
    "df.head(1)"
   ]
  },
  {
   "cell_type": "code",
   "execution_count": null,
   "id": "34908563-b9da-4d9c-bb54-3830d95096ff",
   "metadata": {},
   "outputs": [],
   "source": [
    "df.drop('prospect_id', axis = 1, inplace = True)"
   ]
  },
  {
   "cell_type": "code",
   "execution_count": null,
   "id": "b2de9724-babe-4d35-9a32-edb5475f8210",
   "metadata": {},
   "outputs": [],
   "source": [
    "### Replace \"Select\" category with null values"
   ]
  },
  {
   "cell_type": "code",
   "execution_count": null,
   "id": "8117602b-a59b-4ec5-b2dc-ce885824db09",
   "metadata": {},
   "outputs": [],
   "source": [
    "# Select all non-numeric columns\n",
    "df_obj = df.select_dtypes(include='object')\n",
    "\n",
    "# Find out columns that have \"Select\"\n",
    "s = lambda x: x.str.contains('Select', na=False)\n",
    "l = df_obj.columns[df_obj.apply(s).any()].tolist()\n",
    "print (l)"
   ]
  },
  {
   "cell_type": "code",
   "execution_count": null,
   "id": "ce30c246-64b5-4e7e-8d67-ceaf155f9fbd",
   "metadata": {},
   "outputs": [],
   "source": [
    "There are 4 columns that contains `Select`, which are effectively null values. We are going to make that change "
   ]
  },
  {
   "cell_type": "code",
   "execution_count": null,
   "id": "349646a6-2485-4d1c-aafc-b108bc2b44b5",
   "metadata": {},
   "outputs": [],
   "source": [
    "# select all the columns that have a \"Select\" entry\n",
    "sel_cols = ['specialization', 'source', 'lead_profile', 'city']\n",
    "\n",
    "# replace values\n",
    "df[sel_cols] = df[sel_cols].replace('Select', np.NaN)"
   ]
  },
  {
   "cell_type": "code",
   "execution_count": null,
   "id": "f37d77c8-cad3-4909-9b15-ed6307b071b6",
   "metadata": {},
   "outputs": [],
   "source": [
    "### Handle null values and sales generated columns\n",
    "\n",
    "- Given there are a number of columns with very high number of null entries, let's calculate the percentage of null values in each column, and take a decision from there.\n",
    "- Furthermore, we can also drop Sales generated columns because those are the data entries that are made after the sales team has connected with the student. Those data have no bearing to the purpose of our model ie. providing lead score. The columns are\n",
    "    * `tags`\n",
    "    * `lead_quality`\n",
    "    * all `asymmetrique` columns\n",
    "    * `last_activity`\n",
    "    * `last_notable_activity`"
   ]
  },
  {
   "cell_type": "code",
   "execution_count": null,
   "id": "0d8265e7-69fe-42e2-a253-200530f3aee9",
   "metadata": {},
   "outputs": [],
   "source": [
    "# Calculate percentage of null values for each column\n",
    "(df.isnull().sum() / df.shape[0]) * 100"
   ]
  },
  {
   "cell_type": "code",
   "execution_count": null,
   "id": "cb74197e-44cc-41bf-a3be-32c8927774a4",
   "metadata": {},
   "outputs": [],
   "source": [
    "**Observation**: As can be seen, there are quite a few columns with high number of missing data. \n",
    "Since there are no ways to get data back from reliable sources, we can drop all those columns that have missing values\n",
    "> 40%"
   ]
  },
  {
   "cell_type": "code",
   "execution_count": null,
   "id": "e3985a61-8769-4242-999a-ec64d8b50a41",
   "metadata": {},
   "outputs": [],
   "source": [
    "#### Drop columns that have null values > 40% or Sales generated columns"
   ]
  },
  {
   "cell_type": "code",
   "execution_count": null,
   "id": "c1be68db-78fc-449b-a01f-a790919fec6b",
   "metadata": {},
   "outputs": [],
   "source": [
    "df.drop(['source', 'lead_quality', 'lead_profile', 'asymmetrique_activity_index', \n",
    "                      'asymmetrique_profile_index', 'asymmetrique_activity_score', 'asymmetrique_profile_score',\n",
    "        'tags', 'last_activity', 'last_notable_activity'], \n",
    "        axis = 1, inplace = True)\n",
    "\n",
    "df.head(1)"
   ]
  },
  {
   "cell_type": "code",
   "execution_count": null,
   "id": "9ac3deeb-5552-47e1-b859-00079ced3b50",
   "metadata": {},
   "outputs": [],
   "source": [
    "# Lets look at what are we left with\n",
    "# Calculate percentage of null values for each column\n",
    "(df.isnull().sum() / df.shape[0]) * 100"
   ]
  },
  {
   "cell_type": "code",
   "execution_count": null,
   "id": "d182c7ec-12dc-4400-a636-6db73882f921",
   "metadata": {},
   "outputs": [],
   "source": [
    "**Observations**\n",
    "<br>There are five columns that still have high null values: `country`, `specialization`, `occupation`, `course_selection_reason`, and `city`. We will look at them individually to see what can be done"
   ]
  },
  {
   "cell_type": "code",
   "execution_count": null,
   "id": "0836837f-50f9-458d-8e0e-795abe02ab1e",
   "metadata": {},
   "outputs": [],
   "source": [
    "#### `country` column"
   ]
  },
  {
   "cell_type": "code",
   "execution_count": null,
   "id": "f47b50da-7212-4fc8-8e9f-d066bcd338a3",
   "metadata": {},
   "outputs": [],
   "source": [
    "df.country.value_counts(normalize = True, dropna = False) * 100"
   ]
  },
  {
   "cell_type": "code",
   "execution_count": null,
   "id": "24530841-b63d-4e33-9bbb-f22ea76fff3a",
   "metadata": {},
   "outputs": [],
   "source": [
    "**Observation**\n",
    "<br> The distribution of the data is very heavily skewed, with India + null values = 97% of the total. \n",
    "It is safe to drop this column."
   ]
  },
  {
   "cell_type": "code",
   "execution_count": null,
   "id": "10d54f16-4706-41d7-bbba-d32724985d1a",
   "metadata": {},
   "outputs": [],
   "source": [
    "df.drop('country', axis = 1, inplace = True)"
   ]
  },
  {
   "cell_type": "code",
   "execution_count": null,
   "id": "0ef930e4-62be-4b72-ba81-ac88affce13e",
   "metadata": {},
   "outputs": [],
   "source": [
    "#### `course_selection_reason` column"
   ]
  },
  {
   "cell_type": "code",
   "execution_count": null,
   "id": "30454660-706e-4d8a-9522-f026c1c36c9c",
   "metadata": {},
   "outputs": [],
   "source": [
    "df.course_selection_reason.value_counts(normalize = True, dropna = False) * 100"
   ]
  },
  {
   "cell_type": "code",
   "execution_count": null,
   "id": "dfbb7ee9-1eb2-4319-af08-db24b8159b1c",
   "metadata": {},
   "outputs": [],
   "source": [
    "**Observation**\n",
    "<br> For occupation, we can first combine categories, and then impute proportionally to maintain the distribution and not introduce bias"
   ]
  },
  {
   "cell_type": "code",
   "execution_count": null,
   "id": "e2fba3cf-a3bf-4188-bef8-97107112b9f7",
   "metadata": {},
   "outputs": [],
   "source": [
    "# combine low representing categories\n",
    "df.loc[(df.occupation == 'Student') | (df.occupation == 'Other') | (df.occupation == 'Housewife') | \n",
    "       (df.occupation == 'Businessman') , 'occupation'] = 'Student and Others'"
   ]
  },
  {
   "cell_type": "code",
   "execution_count": null,
   "id": "36aaa57b-0eaf-49ea-b202-0dd7c4e04b0f",
   "metadata": {},
   "outputs": [],
   "source": [
    "df.occupation.value_counts(normalize = True) * 100"
   ]
  },
  {
   "cell_type": "code",
   "execution_count": null,
   "id": "dc44e0e4-8b7b-42ad-bb1f-83606b2805ca",
   "metadata": {},
   "outputs": [],
   "source": [
    "# impute proportionately\n",
    "df['occupation'] = df.occupation.fillna(pd.Series(np.random.choice(['Unemployed', 'Working Professional', \n",
    "                                                                    'Student and Others'], \n",
    "                                                                   p = [0.8550, 0.1078, 0.0372], size = len(df))))"
   ]
  },
  {
   "cell_type": "code",
   "execution_count": null,
   "id": "c5e94ef4-e73f-4217-a912-d25b72968d00",
   "metadata": {},
   "outputs": [],
   "source": [
    "#### `specialization` column"
   ]
  },
  {
   "cell_type": "code",
   "execution_count": null,
   "id": "a6a4bcd6-16c7-4784-82a2-fb7e771fefc3",
   "metadata": {},
   "outputs": [],
   "source": [
    "df.specialization.value_counts(normalize = True, dropna = False) * 100"
   ]
  },
  {
   "cell_type": "code",
   "execution_count": null,
   "id": "c654d724-c66c-44d8-9797-df69548dbdff",
   "metadata": {},
   "outputs": [],
   "source": [
    "**Observation**\n",
    "<br> For specialization, we can first combine categories based on the course type, and then impute proportionally to maintain the distribution and not introduce bias"
   ]
  },
  {
   "cell_type": "code",
   "execution_count": null,
   "id": "b8a0eb5b-fda9-4b45-8ebb-dd7ea6940a50",
   "metadata": {},
   "outputs": [],
   "source": [
    "# categorize all management courses\n",
    "df.loc[(df.specialization == 'Finance Management') | (df.specialization == 'Human Resource Management') | \n",
    "       (df.specialization == 'Marketing Management') |  (df.specialization == 'Operations Management') |\n",
    "       (df.specialization == 'IT Projects Management') | (df.specialization == 'Supply Chain Management') |\n",
    "       (df.specialization == 'Healthcare Management') | (df.specialization == 'Hospitality Management') |\n",
    "       (df.specialization == 'Retail Management') , 'specialization'] = 'Management Specializations'\n",
    "\n",
    "# categorize all busines courses\n",
    "df.loc[(df.specialization == 'Business Administration') | (df.specialization == 'International Business') | \n",
    "       (df.specialization == 'Rural and Agribusiness') | (df.specialization == 'E-Business') \n",
    "        , 'specialization'] = 'Business Specializations'\n",
    "\n",
    "# categorize all industry courses\n",
    "df.loc[(df.specialization == 'Banking, Investment And Insurance') | (df.specialization == 'Media and Advertising') |\n",
    "       (df.specialization == 'Travel and Tourism') | (df.specialization == 'Services Excellence') |\n",
    "       (df.specialization == 'E-COMMERCE'), 'specialization'] = 'Industry Specializations'"
   ]
  },
  {
   "cell_type": "code",
   "execution_count": null,
   "id": "950cf34b-8eb6-4ab1-9791-f9aa15271f99",
   "metadata": {},
   "outputs": [],
   "source": [
    "df.specialization.value_counts(normalize = True) * 100"
   ]
  },
  {
   "cell_type": "code",
   "execution_count": null,
   "id": "287482a8-21e9-4b24-af14-0097a8bd7fa8",
   "metadata": {},
   "outputs": [],
   "source": [
    "# impute proportionately\n",
    "df['specialization'] = df.specialization.fillna(pd.Series(np.random.choice(['Management Specializations',  \n",
    "                                                    'Business Specializations', 'Industry Specializations'], \n",
    "                                                                   p = [0.7258, 0.1213, 0.1529 ], size = len(df))))"
   ]
  },
  {
   "cell_type": "code",
   "execution_count": null,
   "id": "86143c22-7061-4ab0-baf3-e537afe3264c",
   "metadata": {},
   "outputs": [],
   "source": [
    "df.city.value_counts(normalize = True, dropna = False) * 100"
   ]
  },
  {
   "cell_type": "code",
   "execution_count": null,
   "id": "fef37da4-990c-40e8-9cbf-d24224b620fc",
   "metadata": {},
   "outputs": [],
   "source": [
    "**Observations**\n",
    "We will categorize cities based on logical decisions and impute proportionately"
   ]
  },
  {
   "cell_type": "code",
   "execution_count": null,
   "id": "a30e2a5e-5662-40f8-a64e-a3e847512591",
   "metadata": {},
   "outputs": [],
   "source": [
    "# categorize all non-mumbai, but Maharashtra cities\n",
    "df.loc[(df.city == 'Thane & Outskirts') | (df.city == 'Other Cities of Maharashtra'), \n",
    "       'city'] = 'Non-Mumbai Maharashtra Cities'\n",
    "\n",
    "# categorize all other cities\n",
    "df.loc[(df.city == 'Other Cities') | (df.city == 'Other Metro Cities') | (df.city == 'Tier II Cities') , \n",
    "       'city'] = 'Non-Maharashtra Cities'"
   ]
  },
  {
   "cell_type": "code",
   "execution_count": null,
   "id": "04fcd929-8045-4f9a-aa25-34634988ed8e",
   "metadata": {},
   "outputs": [],
   "source": [
    "df.city.value_counts(normalize = True) * 100"
   ]
  },
  {
   "cell_type": "code",
   "execution_count": null,
   "id": "de73cfbc-ed8f-4d92-97ca-f68e3a1bf640",
   "metadata": {},
   "outputs": [],
   "source": [
    "# impute proportionately\n",
    "df['city'] = df.city.fillna(pd.Series(np.random.choice(['Mumbai', 'Non-Mumbai Maharashtra Cities', \n",
    "                                                                    'Non-Maharashtra Cities'], \n",
    "                                                                   p = [0.5784, 0.2170, 0.2046 ], size = len(df))))"
   ]
  },
  {
   "cell_type": "code",
   "execution_count": null,
   "id": "a268a970-a871-41df-aa47-55502f3d2550",
   "metadata": {},
   "outputs": [],
   "source": [
    "### Handle categorical columns with low number of missing values and low representation of categories\n",
    "\n",
    "In this step, we will go through the rest of the categorical columns one by one and\n",
    "* Merge categories that have low representation\n",
    "* Impute the missing values"
   ]
  },
  {
   "cell_type": "code",
   "execution_count": null,
   "id": "a04a81f7-fa79-488d-99b5-176d79f5385c",
   "metadata": {},
   "outputs": [],
   "source": [
    "(df.isnull().sum() / df.shape[0]) * 100"
   ]
  },
  {
   "cell_type": "code",
   "execution_count": null,
   "id": "57ad48a0-0c71-42e6-87b7-78579b492cb1",
   "metadata": {},
   "outputs": [],
   "source": [
    "# determine unique values for all object datatype columns\n",
    "for k, v in df.select_dtypes(include='object').nunique().to_dict().items():\n",
    "    print('{} = {}'.format(k,v))"
   ]
  },
  {
   "cell_type": "code",
   "execution_count": null,
   "id": "b1a05fa6-a4ce-4098-8484-815e5caa6bb7",
   "metadata": {},
   "outputs": [],
   "source": [
    "**Observation**\n",
    "<br> As can be seen from the above output, the categorical columns (i.e. number of unique values > 2) are:\n",
    "* `lead_origin`\n",
    "* `lead_source`"
   ]
  },
  {
   "cell_type": "code",
   "execution_count": null,
   "id": "118471ee-1d1b-4e8b-a2b9-17763418b12a",
   "metadata": {},
   "outputs": [],
   "source": [
    "#### `lead_origin` column"
   ]
  },
  {
   "cell_type": "code",
   "execution_count": null,
   "id": "434e3963-321c-4ef1-8d12-f9a2a0e2bae1",
   "metadata": {},
   "outputs": [],
   "source": [
    "df.lead_origin.value_counts(normalize = True, dropna = False) * 100"
   ]
  },
  {
   "cell_type": "code",
   "execution_count": null,
   "id": "0c12f4d6-de61-4d2e-97be-24271624f02a",
   "metadata": {},
   "outputs": [],
   "source": [
    "#There are a lot of smaller values which will not be used as definitive factors, lets group them together\n",
    "df.loc[(df.lead_origin == 'Lead Import') | (df.lead_origin == 'Quick Add Form') | (df.lead_origin == 'Lead Add Form')\n",
    "       , 'lead_origin'] = 'Lead Add Form and Others'"
   ]
  },
  {
   "cell_type": "code",
   "execution_count": null,
   "id": "05cc6732-0645-4210-8a13-ba6d26df703e",
   "metadata": {},
   "outputs": [],
   "source": [
    "#### `lead_source` column"
   ]
  },
  {
   "cell_type": "code",
   "execution_count": null,
   "id": "e57c72e2-3c9a-454e-acea-365f028c361d",
   "metadata": {},
   "outputs": [],
   "source": [
    "df.lead_source.value_counts(normalize = True, dropna = False) * 100"
   ]
  },
  {
   "cell_type": "code",
   "execution_count": null,
   "id": "7465625c-1ede-4516-99e0-aabba5420f5f",
   "metadata": {},
   "outputs": [],
   "source": [
    "# Lets impute the missing values with the mode of data i.e. clearly 'Google'\n",
    "df.lead_source.fillna(df.lead_source.mode()[0], inplace=True)"
   ]
  },
  {
   "cell_type": "code",
   "execution_count": null,
   "id": "d06f2362-bfb1-4c36-9fe8-5fdf4fd52f65",
   "metadata": {},
   "outputs": [],
   "source": [
    "#There are a lot of smaller values which will not be used as definitive factors, lets group them together\n",
    "df['lead_source'] = df['lead_source'].apply(lambda x: x if \n",
    "                                            ((x== 'Google') | (x=='Direct Traffic') | (x=='Olark Chat') | \n",
    "                                             (x=='Organic Search') | (x=='Reference')) \n",
    "                                            else 'Other Social Sites')"
   ]
  },
  {
   "cell_type": "code",
   "execution_count": null,
   "id": "95a5dc2d-ead9-4d34-9a5a-d821acda4da2",
   "metadata": {},
   "outputs": [],
   "source": [
    "### Handle Binary columns\n",
    "\n",
    "* Drop those columns that have significant data imbalance\n",
    "* Drop all those columns that have only 1 unique entry"
   ]
  },
  {
   "cell_type": "code",
   "execution_count": null,
   "id": "ec079164-09d5-4ee5-aa30-7ce373160824",
   "metadata": {},
   "outputs": [],
   "source": [
    "# determine unique values\n",
    "for k, v in df.select_dtypes(include='object').nunique().to_dict().items():\n",
    "    print('{} = {}'.format(k,v))"
   ]
  },
  {
   "cell_type": "code",
   "execution_count": null,
   "id": "4104c922-4ddd-412a-ab47-d1e0713128d9",
   "metadata": {},
   "outputs": [],
   "source": [
    "**Observation**\n",
    "* The following columns can be dropped as they have just 1 unique values\n",
    "    * `magazine`\n",
    "    * `course_updates`\n",
    "    * `supply_chain_content_updates`\n",
    "    * `dm_content_updates`\n",
    "    * `cheque_payment`\n",
    "    \n",
    " Let's now check the data imbalance for the rest of the columns"
   ]
  },
  {
   "cell_type": "code",
   "execution_count": null,
   "id": "c80d2de5-b4ad-485b-b4f8-9fc24bce529d",
   "metadata": {},
   "outputs": [],
   "source": [
    "# select rest of the binary columns in a new dataframe\n",
    "df_bin = df[['do_not_email', 'do_not_call', 'search', 'newspaper_article', 'x_education_forums', \n",
    "           'newspaper', 'digital_advertisement', 'through_recommendations', 'mastering_interview']]\n",
    "\n",
    "# see value counts for each of the columns\n",
    "for i in df_bin.columns:\n",
    "    x = (df_bin[i].value_counts(normalize = True)) * 100\n",
    "    print(x)\n",
    "    print()"
   ]
  },
  {
   "cell_type": "code",
   "execution_count": null,
   "id": "ea2ea55e-bfb2-4679-9fd2-75233cdf9eb0",
   "metadata": {},
   "outputs": [],
   "source": [
    "**Observations**\n",
    "<br> Because of heavy data imbalance, we can drop the following columns as well\n",
    "* `do_not_call`\n",
    "* `search`\n",
    "* `newspaper_article`\n",
    "* `x_education_forums`\n",
    "* `newspaper`\n",
    "* `digital_advertisement`\n",
    "* `through_recommendations`"
   ]
  },
  {
   "cell_type": "code",
   "execution_count": null,
   "id": "1af95e54-ce89-469d-a4f0-59f9c012a6d4",
   "metadata": {},
   "outputs": [],
   "source": [
    "drop_bin = ['do_not_call', 'search', 'newspaper_article', 'x_education_forums', \n",
    "           'newspaper', 'digital_advertisement', 'through_recommendations', 'magazine', 'courses_updates', \n",
    "           'supply_chain_content_updates', 'dm_content_updates', 'cheque_payment']\n",
    "\n",
    "df.drop(drop_bin, axis = 1, inplace = True)"
   ]
  },
  {
   "cell_type": "code",
   "execution_count": null,
   "id": "e68b2aef-6c5b-4ab7-9e33-ed4e05ce356f",
   "metadata": {},
   "outputs": [],
   "source": [
    "### Handle Numerical columns"
   ]
  },
  {
   "cell_type": "code",
   "execution_count": null,
   "id": "d9e11aee-fdb7-47ed-8a54-a5ca40760930",
   "metadata": {},
   "outputs": [],
   "source": [
    "#### `lead_number` column: change datatype\n",
    "\n",
    "`lead_number` column is a unique identifier for each leads. Therefore, aggregations won't be of any relevance. We should change it to object"
   ]
  },
  {
   "cell_type": "code",
   "execution_count": null,
   "id": "7ff2fdc0-f50e-4fe1-a0a0-098053a47cee",
   "metadata": {},
   "outputs": [],
   "source": [
    "df.lead_number = df.lead_number.astype('object')"
   ]
  },
  {
   "cell_type": "code",
   "execution_count": null,
   "id": "4723a870-d421-47a6-b19d-48d328bec93a",
   "metadata": {},
   "outputs": [],
   "source": [
    "#### `total_visits` column\n",
    "\n",
    "For this column, we need to handle the missing values, and can convert the datatype to integer since visits can't be decimal"
   ]
  },
  {
   "cell_type": "code",
   "execution_count": null,
   "id": "a967f3c7-8950-475a-8295-be9f2e1b8968",
   "metadata": {},
   "outputs": [],
   "source": [
    "df.total_visits.fillna(df.total_visits.median(), inplace=True)\n",
    "df.total_visits = df.total_visits.astype('int')"
   ]
  },
  {
   "cell_type": "code",
   "execution_count": null,
   "id": "9d40db3f-2df0-4c3f-a7bf-1300f1b2c124",
   "metadata": {},
   "outputs": [],
   "source": [
    "#### `page_views_per_visit` column\n",
    "\n",
    "Handle missing values"
   ]
  },
  {
   "cell_type": "code",
   "execution_count": null,
   "id": "294d789d-4896-48a8-8c6d-ea48db8e37c4",
   "metadata": {},
   "outputs": [],
   "source": [
    "df.page_views_per_visit.fillna(df.page_views_per_visit.median(), inplace=True)"
   ]
  },
  {
   "cell_type": "code",
   "execution_count": null,
   "id": "989fe0f0-e454-48ee-ad7e-fd3a5d4ae78e",
   "metadata": {},
   "outputs": [],
   "source": [
    "df.info()"
   ]
  },
  {
   "cell_type": "code",
   "execution_count": null,
   "id": "84526f29-6f38-4d4e-9589-2dafab27389b",
   "metadata": {},
   "outputs": [],
   "source": [
    "## Exploratory Data Analysis"
   ]
  },
  {
   "cell_type": "code",
   "execution_count": null,
   "id": "e1498e2b-52ae-412b-af59-a313ddbf8b59",
   "metadata": {},
   "outputs": [],
   "source": [
    "### Numerical columns"
   ]
  },
  {
   "cell_type": "code",
   "execution_count": null,
   "id": "018f82ed-89b5-4d4b-b8d4-deb72ac52c6a",
   "metadata": {},
   "outputs": [],
   "source": [
    "# Set style\n",
    "plt.style.use('ggplot')\n",
    "\n",
    "# See distribution of each of these columns\n",
    "fig = plt.figure(figsize = (14, 10))\n",
    "plt.subplot(2, 2, 1)\n",
    "plt.hist(df.total_visits, bins = 20)\n",
    "plt.title('Total website visits')\n",
    "\n",
    "plt.subplot(2, 2, 2)\n",
    "plt.hist(df.time_on_website, bins = 20)\n",
    "plt.title('Time spent on website')\n",
    "\n",
    "plt.subplot(2, 2, 3)\n",
    "plt.hist(df.page_views_per_visit, bins = 20)\n",
    "plt.title('Average number of page views per visit')\n",
    "\n",
    "plt.show()"
   ]
  },
  {
   "cell_type": "code",
   "execution_count": null,
   "id": "6b1e32ad-0996-42a5-816d-bc7c6c063313",
   "metadata": {},
   "outputs": [],
   "source": [
    "**Observations**\n",
    "- High peaks and skewed data. There might be a possibility of outliers. We will check them next"
   ]
  },
  {
   "cell_type": "code",
   "execution_count": null,
   "id": "36797de6-6a5b-4e52-bfe3-ecccc3146a15",
   "metadata": {},
   "outputs": [],
   "source": [
    "#### Heatmap"
   ]
  },
  {
   "cell_type": "code",
   "execution_count": null,
   "id": "5986e68d-583c-4b9a-8bec-f9b7bb2697a7",
   "metadata": {},
   "outputs": [],
   "source": [
    "plt.figure(figsize = (14,12))\n",
    "sns.heatmap(df[['total_visits', 'time_on_website', 'page_views_per_visit']].corr(), cmap=\"YlGnBu\", annot = True)\n",
    "plt.show()"
   ]
  },
  {
   "cell_type": "code",
   "execution_count": null,
   "id": "aadae0db-c8bf-49e9-a8ee-eab64b86dbf4",
   "metadata": {},
   "outputs": [],
   "source": [
    "**Observations**: No significaqnt correlation such that columns can be dropped"
   ]
  },
  {
   "cell_type": "code",
   "execution_count": null,
   "id": "395c2579-799a-4a24-be1d-454884f89868",
   "metadata": {},
   "outputs": [],
   "source": [
    "#### Check for outliers"
   ]
  },
  {
   "cell_type": "code",
   "execution_count": null,
   "id": "316a50bb-8350-47e4-a599-f84aa43befd7",
   "metadata": {},
   "outputs": [],
   "source": [
    "plt.figure(figsize = (10, 14))\n",
    "\n",
    "plt.subplot(3,1,1)\n",
    "sns.boxplot(df.total_visits)\n",
    "\n",
    "plt.subplot(3,1,2)\n",
    "sns.boxplot(df.time_on_website)\n",
    "\n",
    "plt.subplot(3,1,3)\n",
    "sns.boxplot(df.page_views_per_visit)\n",
    "plt.show()"
   ]
  },
  {
   "cell_type": "code",
   "execution_count": null,
   "id": "fc30c5bd-279a-4ffa-9382-5c2cc01a1f07",
   "metadata": {},
   "outputs": [],
   "source": [
    "**Observations**\n",
    "\n",
    "* Looking at both the box plots and the statistics, there are upper bound outliers in both `total_visits` and `page_views_per_visit` columns. We can also see that the data can be capped at 99 percentile."
   ]
  },
  {
   "cell_type": "code",
   "execution_count": null,
   "id": "bed73aac-89a7-4b94-ab8b-5ddd9f2afb0a",
   "metadata": {},
   "outputs": [],
   "source": [
    "### Categorical columns"
   ]
  },
  {
   "cell_type": "code",
   "execution_count": null,
   "id": "daf39522-dcbc-41bf-8304-3424242025de",
   "metadata": {},
   "outputs": [],
   "source": [
    "####Lead Origin"
   ]
  },
  {
   "cell_type": "code",
   "execution_count": null,
   "id": "4fb0cd38-6c91-4bed-8739-786aca95d719",
   "metadata": {},
   "outputs": [],
   "source": [
    "plt.figure(figsize = (14, 8))\n",
    "\n",
    "df.groupby('lead_origin')['lead_number'].count().sort_values(ascending = False).plot(kind= 'barh', width = 0.8, \n",
    "                                                            edgecolor = 'black', \n",
    "                                                            color = plt.cm.Paired(np.arange(len(df))))\n",
    "plt.show()"
   ]
  },
  {
   "cell_type": "code",
   "execution_count": null,
   "id": "e2359334-f3b7-4281-b122-24131e2b8af9",
   "metadata": {},
   "outputs": [],
   "source": [
    "df.head(1)"
   ]
  },
  {
   "cell_type": "code",
   "execution_count": null,
   "id": "7cea875f-92fe-4fc9-9178-4e3dffa443c2",
   "metadata": {},
   "outputs": [],
   "source": [
    "#### Lead Source"
   ]
  },
  {
   "cell_type": "code",
   "execution_count": null,
   "id": "cc4ed5b5-7568-4e9d-968b-9874e5a79263",
   "metadata": {},
   "outputs": [],
   "source": [
    "plt.figure(figsize = (14, 8))\n",
    "\n",
    "df.groupby('lead_source')['lead_number'].count().sort_values(ascending = False).plot(kind= 'barh', width = 0.8, \n",
    "                                                            edgecolor = 'black', \n",
    "                                                            color = plt.cm.Paired(np.arange(len(df))))\n",
    "plt.show()"
   ]
  },
  {
   "cell_type": "code",
   "execution_count": null,
   "id": "31526747-468d-436a-b2e2-6b2c8075e90b",
   "metadata": {},
   "outputs": [],
   "source": [
    "#### Specialization"
   ]
  },
  {
   "cell_type": "code",
   "execution_count": null,
   "id": "910a606d-907c-47f0-b5db-d874373808a7",
   "metadata": {},
   "outputs": [],
   "source": [
    "plt.figure(figsize = (10, 8))\n",
    "\n",
    "df.groupby('specialization')['lead_number'].count().sort_values(ascending = False).plot(kind= 'barh', width = 0.8, \n",
    "                                                            edgecolor = 'black', \n",
    "                                                            color = plt.cm.Paired(np.arange(len(df))))\n",
    "plt.show()"
   ]
  },
  {
   "cell_type": "code",
   "execution_count": null,
   "id": "ef80851c-4482-4813-b228-ecceb1eec323",
   "metadata": {},
   "outputs": [],
   "source": [
    "Most of the speciliazation taken are management"
   ]
  },
  {
   "cell_type": "code",
   "execution_count": null,
   "id": "a1ad2707-fa5d-4f31-a3b9-d2f26c01e360",
   "metadata": {},
   "outputs": [],
   "source": [
    "#### Occupation"
   ]
  },
  {
   "cell_type": "code",
   "execution_count": null,
   "id": "5c98d556-88d1-4121-ba4d-ea4bf28c21a2",
   "metadata": {},
   "outputs": [],
   "source": [
    "plt.figure(figsize = (14, 8))\n",
    "\n",
    "df.groupby('occupation')['lead_number'].count().sort_values(ascending = False).plot(kind= 'barh', width = 0.8, \n",
    "                                                            edgecolor = 'black', \n",
    "                                                            color = plt.cm.Paired(np.arange(len(df))))\n",
    "plt.show()"
   ]
  },
  {
   "cell_type": "code",
   "execution_count": null,
   "id": "26d279ce-08f9-476a-a7b2-7c72e821fe1d",
   "metadata": {},
   "outputs": [],
   "source": [
    "Unempployed users are the most significant leads"
   ]
  },
  {
   "cell_type": "code",
   "execution_count": null,
   "id": "7489a543-264b-40e9-8f34-167adf3306c0",
   "metadata": {},
   "outputs": [],
   "source": [
    "#### City"
   ]
  },
  {
   "cell_type": "code",
   "execution_count": null,
   "id": "b9a38188-bcff-4edb-a490-8cb83c086f2b",
   "metadata": {},
   "outputs": [],
   "source": [
    "plt.figure(figsize = (14, 8))\n",
    "\n",
    "df.groupby('city')['lead_number'].count().sort_values(ascending = False).plot(kind= 'barh', width = 0.8, \n",
    "                                                            edgecolor = 'black', \n",
    "                                                            color = plt.cm.Paired(np.arange(len(df))))\n",
    "plt.show()"
   ]
  },
  {
   "cell_type": "code",
   "execution_count": null,
   "id": "01702f72-4e0b-43df-8079-fc77fe91ac53",
   "metadata": {},
   "outputs": [],
   "source": [
    "Mumbai in particular and Maharashtra in general dominates the lead. This is likely due to the fact that the courses are based in Mumbai"
   ]
  },
  {
   "cell_type": "code",
   "execution_count": null,
   "id": "8e573c15-405c-42d3-9035-e81772dd5190",
   "metadata": {},
   "outputs": [],
   "source": [
    "plt.figure(figsize = (14, 8))\n",
    "\n",
    "df.groupby('do_not_email')['lead_number'].count().sort_values(ascending = False).plot(kind= 'barh', width = 0.8, \n",
    "                                                            edgecolor = 'black', \n",
    "                                                            color = plt.cm.Paired(np.arange(len(df))))\n",
    "plt.show()"
   ]
  },
  {
   "cell_type": "code",
   "execution_count": null,
   "id": "3b9c1db0-6857-43a0-9c65-bde71fd616a9",
   "metadata": {},
   "outputs": [],
   "source": []
  },
  {
   "cell_type": "code",
   "execution_count": null,
   "id": "f45746e1-2bcc-4d33-9ece-3de8bacac86d",
   "metadata": {},
   "outputs": [],
   "source": []
  },
  {
   "cell_type": "code",
   "execution_count": null,
   "id": "bee759d6-c152-4553-97a0-453d920c49ff",
   "metadata": {},
   "outputs": [],
   "source": []
  },
  {
   "cell_type": "code",
   "execution_count": null,
   "id": "2224bb7b-65ae-4b4d-affa-91bc17596079",
   "metadata": {},
   "outputs": [],
   "source": []
  },
  {
   "cell_type": "code",
   "execution_count": null,
   "id": "907c8907-7637-402c-8421-87f518d53a40",
   "metadata": {},
   "outputs": [],
   "source": []
  },
  {
   "cell_type": "code",
   "execution_count": null,
   "id": "babaaea8-4279-4c31-ba1e-e1971a714463",
   "metadata": {},
   "outputs": [],
   "source": []
  },
  {
   "cell_type": "code",
   "execution_count": null,
   "id": "0f9d02e7-ba88-4376-ac9f-4801e2da3ad1",
   "metadata": {},
   "outputs": [],
   "source": [
    "## Data Preparation"
   ]
  },
  {
   "cell_type": "code",
   "execution_count": null,
   "id": "efc407a1-917c-40e5-9d9d-7b4a8fad0660",
   "metadata": {},
   "outputs": [],
   "source": [
    "### Converting Binary (Yes/No) to 0/1"
   ]
  },
  {
   "cell_type": "code",
   "execution_count": null,
   "id": "0917a961-6427-4198-ba48-b433d0209227",
   "metadata": {},
   "outputs": [],
   "source": [
    "# determine unique values\n",
    "for k, v in df.select_dtypes(include='object').nunique().to_dict().items():\n",
    "    print('{} = {}'.format(k,v))"
   ]
  },
  {
   "cell_type": "code",
   "execution_count": null,
   "id": "d3145963-051e-47ad-b186-8bf67067929b",
   "metadata": {},
   "outputs": [],
   "source": [
    "We have two binary columns: `do_not_email`, `mastering_interview`"
   ]
  },
  {
   "cell_type": "code",
   "execution_count": null,
   "id": "e26744c3-a4f1-4968-8515-a75ea793a545",
   "metadata": {},
   "outputs": [],
   "source": [
    "binlist = ['do_not_email', 'mastering_interview']\n",
    "\n",
    "# Defining the map function\n",
    "def binary_map(x):\n",
    "    return x.map({'Yes': 1, \"No\": 0})\n",
    "\n",
    "# Applying the function to the housing list\n",
    "df[binlist] = df[binlist].apply(binary_map)\n",
    "\n",
    "# check the operation was success\n",
    "df.head()"
   ]
  },
  {
   "cell_type": "code",
   "execution_count": null,
   "id": "006f45c1-fbbf-4aff-b276-c71b90b6c7f9",
   "metadata": {},
   "outputs": [],
   "source": [
    "### Creating dummy variable for categorical columns\n",
    "\n",
    "Categorical columns are: `lead_origin`, `lead_source`, `specialization`, `occupation`, `city`"
   ]
  },
  {
   "cell_type": "code",
   "execution_count": null,
   "id": "e2e7cbc8-f674-492e-a4b4-380674c68698",
   "metadata": {},
   "outputs": [],
   "source": [
    "# Creating a dummy variable for some of the categorical variables and dropping the first one.\n",
    "dummy1 = pd.get_dummies(df[['lead_origin', 'lead_source', 'specialization', 'occupation', 'city']], drop_first = True)\n",
    "\n",
    "# Adding the results to the master dataframe\n",
    "df = pd.concat([df, dummy1], axis=1)"
   ]
  },
  {
   "cell_type": "code",
   "execution_count": null,
   "id": "2abbe9d7-bf21-4c7b-acc6-8462375f6f55",
   "metadata": {},
   "outputs": [],
   "source": [
    "# Dropping the columns for which dummies have been created\n",
    "df.drop(['lead_origin', 'lead_source', 'specialization', 'occupation', 'city'], axis = 1, inplace = True)\n",
    "\n",
    "df.head()"
   ]
  },
  {
   "cell_type": "code",
   "execution_count": null,
   "id": "ced95cc6-c09a-4ead-a231-45f1b8c8e263",
   "metadata": {},
   "outputs": [],
   "source": [
    "### Outliers Treatment"
   ]
  },
  {
   "cell_type": "code",
   "execution_count": null,
   "id": "9ef940d2-ceb7-4c11-bc64-52035ed766ba",
   "metadata": {},
   "outputs": [],
   "source": [
    "num_cols = df[['total_visits', 'time_on_website', 'page_views_per_visit']]\n",
    "\n",
    "# Checking outliers at 25%, 50%, 75%, 90%, 95% and 99%\n",
    "num_cols.describe(percentiles=[.25, .5, .75, .90, .95, .99])"
   ]
  },
  {
   "cell_type": "code",
   "execution_count": null,
   "id": "23b4bd9e-1fc3-416c-af47-45c269d5e307",
   "metadata": {},
   "outputs": [],
   "source": [
    "# capping at 99 percentile\n",
    "df.total_visits.loc[df.total_visits >= df.total_visits.quantile(0.99)] = df.total_visits.quantile(0.99)\n",
    "df.page_views_per_visit.loc[df.page_views_per_visit >= \n",
    "                            df.page_views_per_visit.quantile(0.99)] = df.page_views_per_visit.quantile(0.99)"
   ]
  },
  {
   "cell_type": "code",
   "execution_count": null,
   "id": "3022f49b-cd3f-4d74-b600-25ac873a8054",
   "metadata": {},
   "outputs": [],
   "source": [
    "plt.figure(figsize = (10, 14))\n",
    "\n",
    "plt.subplot(2,1,1)\n",
    "sns.boxplot(df.total_visits)\n",
    "\n",
    "plt.subplot(2,1,2)\n",
    "sns.boxplot(df.page_views_per_visit)\n",
    "plt.show()"
   ]
  },
  {
   "cell_type": "code",
   "execution_count": null,
   "id": "fb1dd214-e8ca-4faa-b449-875cf0227104",
   "metadata": {},
   "outputs": [],
   "source": [
    "As we can see, we were able to significantly reduce the number of outliers by capping"
   ]
  },
  {
   "cell_type": "code",
   "execution_count": null,
   "id": "cd11a7be-0799-4104-bf44-5f952a1d7889",
   "metadata": {},
   "outputs": [],
   "source": [
    "### Test-Train Split"
   ]
  },
  {
   "cell_type": "code",
   "execution_count": null,
   "id": "7e72b66d-cf69-4d65-9356-77343160bdeb",
   "metadata": {},
   "outputs": [],
   "source": [
    "# Putting feature variable to X\n",
    "X = df.drop(['lead_number', 'converted'], axis=1)\n",
    "\n",
    "X.head(1)"
   ]
  },
  {
   "cell_type": "code",
   "execution_count": null,
   "id": "6a8b45f5-ca96-438e-85d1-90ba820b424c",
   "metadata": {},
   "outputs": [],
   "source": [
    "# Putting response variable to y\n",
    "y = df['converted']\n",
    "\n",
    "y.head(1)"
   ]
  },
  {
   "cell_type": "code",
   "execution_count": null,
   "id": "73d460d0-b003-4dcb-8108-a7e72fe739a8",
   "metadata": {},
   "outputs": [],
   "source": [
    "# Splitting the data into train and test\n",
    "X_train, X_test, y_train, y_test = train_test_split(X, y, train_size=0.7, test_size=0.3, random_state=100)"
   ]
  },
  {
   "cell_type": "code",
   "execution_count": null,
   "id": "1718d306-2212-485d-aacc-4e13dcb9b40a",
   "metadata": {},
   "outputs": [],
   "source": [
    "### Feature Scaling"
   ]
  },
  {
   "cell_type": "code",
   "execution_count": null,
   "id": "953deea2-a76e-4a3a-8737-cf05078532c6",
   "metadata": {},
   "outputs": [],
   "source": [
    "scaler = StandardScaler()\n",
    "\n",
    "X_train[['total_visits','time_on_website','page_views_per_visit']] = scaler.fit_transform(\n",
    "    X_train[['total_visits','time_on_website','page_views_per_visit']])\n",
    "\n",
    "X_train.head()"
   ]
  },
  {
   "cell_type": "code",
   "execution_count": null,
   "id": "447d823b-3440-4d53-8e3a-d238982bda81",
   "metadata": {},
   "outputs": [],
   "source": [
    "# checking the conversion rate\n",
    "conversion = (sum(df['converted'])/len(df['converted'].index))*100\n",
    "conversion"
   ]
  },
  {
   "cell_type": "code",
   "execution_count": null,
   "id": "0fd1c10a-9927-4f4e-b186-d1fb202192cc",
   "metadata": {},
   "outputs": [],
   "source": [
    "The conversion rate is 38.5%"
   ]
  },
  {
   "cell_type": "code",
   "execution_count": null,
   "id": "5c9eac80-59cc-4ec8-a036-3bbed9e1abeb",
   "metadata": {},
   "outputs": [],
   "source": [
    "### Looking at correlations"
   ]
  },
  {
   "cell_type": "code",
   "execution_count": null,
   "id": "faa076da-6469-43d0-a3da-6821eba4cd7a",
   "metadata": {},
   "outputs": [],
   "source": [
    "# Let's see the correlation matrix \n",
    "plt.figure(figsize = (14,10))       \n",
    "sns.heatmap(df.corr(),annot = True, cmap=\"YlGnBu\")\n",
    "plt.show()"
   ]
  },
  {
   "cell_type": "code",
   "execution_count": null,
   "id": "2822a6cb-5193-4ab7-92d9-49f4df0bd447",
   "metadata": {},
   "outputs": [],
   "source": [
    "#### Drop highly correlated dummy variables"
   ]
  },
  {
   "cell_type": "code",
   "execution_count": null,
   "id": "f09a55bb-772b-4d44-853c-c280e2db59be",
   "metadata": {},
   "outputs": [],
   "source": [
    "X_test.drop(['lead_origin_Lead Add Form and Others', 'specialization_Industry Specializations', \n",
    "                     'occupation_Working Professional'], axis = 1, inplace = True)\n",
    "\n",
    "X_train.drop(['lead_origin_Lead Add Form and Others', 'specialization_Industry Specializations', \n",
    "                     'occupation_Working Professional'], axis = 1, inplace = True)"
   ]
  },
  {
   "cell_type": "code",
   "execution_count": null,
   "id": "55a93582-8e6a-4250-8590-6e39fbd81a4b",
   "metadata": {},
   "outputs": [],
   "source": [
    "## lets check the correlation matrix again\n",
    "plt.figure(figsize = (14,10))       \n",
    "sns.heatmap(X_train.corr(),annot = True, cmap=\"YlGnBu\")\n",
    "plt.show()"
   ]
  },
  {
   "cell_type": "code",
   "execution_count": null,
   "id": "d0610f49-a166-483c-b68e-e022cd6768de",
   "metadata": {},
   "outputs": [],
   "source": [
    "## Model Building"
   ]
  },
  {
   "cell_type": "code",
   "execution_count": null,
   "id": "91728d11-9916-40cd-84e3-413035806efd",
   "metadata": {},
   "outputs": [],
   "source": [
    "### Model 1: All variables"
   ]
  },
  {
   "cell_type": "code",
   "execution_count": null,
   "id": "0a3b4f60-fee6-4eed-ad42-435b3d879178",
   "metadata": {},
   "outputs": [],
   "source": [
    "# Logistic regression model\n",
    "logm1 = sm.GLM(y_train,(sm.add_constant(X_train)), family = sm.families.Binomial())\n",
    "logm1.fit().summary()"
   ]
  },
  {
   "cell_type": "code",
   "execution_count": null,
   "id": "1d61b5e9-60ca-4535-bb59-b340906ab9f5",
   "metadata": {},
   "outputs": [],
   "source": [
    "### Feature selection using RFE"
   ]
  },
  {
   "cell_type": "code",
   "execution_count": null,
   "id": "dbaa73ed-31fa-418e-98e2-f3b64a25bf9f",
   "metadata": {},
   "outputs": [],
   "source": [
    "# initiate logistic regression\n",
    "logreg = LogisticRegression()\n",
    "\n",
    "# initiate rfe\n",
    "rfe = RFE(logreg, 13)             # running RFE with 13 variables as output\n",
    "rfe = rfe.fit(X_train, y_train)"
   ]
  },
  {
   "cell_type": "code",
   "execution_count": null,
   "id": "4d07702a-1dc7-4aa5-85c0-ba6587d73bbb",
   "metadata": {},
   "outputs": [],
   "source": [
    "rfe.support_"
   ]
  },
  {
   "cell_type": "code",
   "execution_count": null,
   "id": "225149f6-5b4b-476f-b9ea-a346a1fc9c42",
   "metadata": {},
   "outputs": [],
   "source": [
    "list(zip(X_train.columns, rfe.support_, rfe.ranking_))"
   ]
  },
  {
   "cell_type": "code",
   "execution_count": null,
   "id": "aef3ebf2-0755-42eb-aa55-ba01a1599c0f",
   "metadata": {},
   "outputs": [],
   "source": [
    "# assign columns\n",
    "col = X_train.columns[rfe.support_]"
   ]
  },
  {
   "cell_type": "code",
   "execution_count": null,
   "id": "973639ae-2e82-4ed3-9c1a-8bb419503618",
   "metadata": {},
   "outputs": [],
   "source": [
    "# check what columns were not selected by RFE\n",
    "X_train.columns[~rfe.support_]"
   ]
  },
  {
   "cell_type": "code",
   "execution_count": null,
   "id": "1b0a7c6e-2041-4872-8c01-a7e95e4d8075",
   "metadata": {},
   "outputs": [],
   "source": [
    "### Model 2: Assessing the model with statsmodel"
   ]
  },
  {
   "cell_type": "code",
   "execution_count": null,
   "id": "c2608f12-69ab-4b7a-ad34-de4b43ab0d53",
   "metadata": {},
   "outputs": [],
   "source": [
    "X_train_sm = sm.add_constant(X_train[col])\n",
    "logm2 = sm.GLM(y_train,X_train_sm, family = sm.families.Binomial())\n",
    "res = logm2.fit()\n",
    "res.summary()"
   ]
  },
  {
   "cell_type": "code",
   "execution_count": null,
   "id": "d91cac5e-65c9-46bc-9183-baa2ccf140c1",
   "metadata": {},
   "outputs": [],
   "source": []
  },
  {
   "cell_type": "code",
   "execution_count": null,
   "id": "934ea2a4-1294-41c7-8e82-2d630b4f435c",
   "metadata": {},
   "outputs": [],
   "source": []
  },
  {
   "cell_type": "code",
   "execution_count": null,
   "id": "15ccb89c-4d47-4fda-8388-e5c8c2f75327",
   "metadata": {},
   "outputs": [],
   "source": []
  },
  {
   "cell_type": "code",
   "execution_count": null,
   "id": "f967fb20-8b48-4eb2-922e-723d3402785e",
   "metadata": {},
   "outputs": [],
   "source": []
  },
  {
   "cell_type": "code",
   "execution_count": null,
   "id": "97f6430d-4709-4a12-ab02-45a3e6305f72",
   "metadata": {},
   "outputs": [],
   "source": []
  },
  {
   "cell_type": "code",
   "execution_count": null,
   "id": "03036cab-0ca4-4efa-902a-00cf89858824",
   "metadata": {},
   "outputs": [],
   "source": [
    "**Lets create empty lists of categorical columns and numerical columns, then we will review the columns one by one and see what needs to be done with each of them**"
   ]
  },
  {
   "cell_type": "code",
   "execution_count": null,
   "id": "04ca5a8a-f027-4162-98c3-0712a4ab778d",
   "metadata": {},
   "outputs": [],
   "source": [
    "cat= []\n",
    "num = []"
   ]
  },
  {
   "cell_type": "code",
   "execution_count": null,
   "id": "aeaf2e37-a5cd-4854-a62c-8e1727d8fd6e",
   "metadata": {},
   "outputs": [],
   "source": [
    "#Creating a function to get the column details\n",
    "def details(x):\n",
    "    print(df[x].value_counts())\n",
    "    print(df[x].isnull().sum(),'null values')\n",
    "    print(df[x].isnull().sum()/df.count()['lead_number']*100,'% values are null')"
   ]
  },
  {
   "cell_type": "code",
   "execution_count": null,
   "id": "6e2393b2-fd15-4284-a8c6-7a146878aaa6",
   "metadata": {},
   "outputs": [],
   "source": [
    "# Do not email column\n",
    "details('Do Not Email')"
   ]
  },
  {
   "cell_type": "code",
   "execution_count": null,
   "id": "143fa445-4345-4613-ad62-000e8a763ab0",
   "metadata": {},
   "outputs": [],
   "source": [
    "we'll leave this column as is for now, and add this to a new list of binary categorical variables"
   ]
  },
  {
   "cell_type": "code",
   "execution_count": null,
   "id": "76fe00fe-2f2d-4763-950b-d3cbfaaf2656",
   "metadata": {},
   "outputs": [],
   "source": [
    "bi_cat = []\n",
    "bi_cat.append('Do Not Email')"
   ]
  },
  {
   "cell_type": "code",
   "execution_count": null,
   "id": "eeecb3f1-f5e8-49f1-b9ec-a5ed36c7e175",
   "metadata": {},
   "outputs": [],
   "source": [
    "#Do Not Call column\n",
    "details('Do Not Call')"
   ]
  },
  {
   "cell_type": "code",
   "execution_count": null,
   "id": "301fa4f9-f07e-44b0-8af7-67910370575b",
   "metadata": {},
   "outputs": [],
   "source": [
    "#Lets drop the column since its only two records and it doesn't make sense to keep this column\n",
    "df.drop('Do Not Call',axis=1,inplace = True)\n",
    "#df[['Do Not Call','Converted']].value_counts()"
   ]
  },
  {
   "cell_type": "code",
   "execution_count": null,
   "id": "0af673d6-4d77-46f4-99fb-2b9e5d1cf5b1",
   "metadata": {},
   "outputs": [],
   "source": [
    "details('TotalVisits')"
   ]
  },
  {
   "cell_type": "code",
   "execution_count": null,
   "id": "2c3b6380-6177-4a71-b4d3-8ee338168590",
   "metadata": {},
   "outputs": [],
   "source": [
    "# We can see that there is a lot of outliers here, we can also plot a boxplot to get a visual idea of the same\n",
    "sns.boxplot(df['TotalVisits'])\n",
    "#and see the median(sometimes we impute the null values with median), and 95th to 99th percentiles for the data\n",
    "df.TotalVisits.quantile([0.50,0.95,0.96,0.97,0.98,0.99])"
   ]
  },
  {
   "cell_type": "code",
   "execution_count": null,
   "id": "5167f2b6-eb84-45d3-a308-225e12e51de2",
   "metadata": {},
   "outputs": [],
   "source": [
    "Considering the values and outliers here, Let's cap the values at 96th percentile i.e. 10<br>\n",
    "\n",
    "Also, we will impute the null values with 0 here, we could impute this with median but considering the values might not have been tracked because they haven't logged on to the site, and 0 is also the mode of the column."
   ]
  },
  {
   "cell_type": "code",
   "execution_count": null,
   "id": "d6094f7d-6665-49dd-8777-a634af5c6688",
   "metadata": {},
   "outputs": [],
   "source": [
    "df[df['TotalVisits'].isnull()]['TotalVisits'] = df['TotalVisits'].mode()[0]\n",
    "#df[df.TotalVisits > df.TotalVisits.quantile(0.96)] = df.TotalVisits.quantile(0.96)\n",
    "#Also add this column to our numerical columns list\n",
    "num.append('TotalVisits')"
   ]
  },
  {
   "cell_type": "code",
   "execution_count": null,
   "id": "9095339c-d1d1-4827-b6a6-f0b3703ca1f0",
   "metadata": {},
   "outputs": [],
   "source": [
    "Let's also create a function to cap the outliers if needed in future"
   ]
  },
  {
   "cell_type": "code",
   "execution_count": null,
   "id": "e2856435-d0ff-467a-954a-66dd525a242e",
   "metadata": {},
   "outputs": [],
   "source": [
    "def cap(col,typ='right',value=0.95):\n",
    "    if typ == 'left':\n",
    "        df[df[col]<df[col].quantile(value)][col] = df[col].quantile(value)\n",
    "    else:\n",
    "        df[df[col]>df[col].quantile(value)][col] = df[col].quantile(value)\n",
    "        "
   ]
  },
  {
   "cell_type": "code",
   "execution_count": null,
   "id": "a694d9f1-c99f-4d06-b331-07741a93daed",
   "metadata": {},
   "outputs": [],
   "source": [
    "# and capping the column as mentioned earlier\n",
    "cap('TotalVisits')"
   ]
  },
  {
   "cell_type": "code",
   "execution_count": null,
   "id": "13b62a7f-4b2b-4057-b32d-b7c9f118dc33",
   "metadata": {},
   "outputs": [],
   "source": [
    "# Lets look at Total Time Spent on Website column\n",
    "details('Total Time Spent on Website')"
   ]
  },
  {
   "cell_type": "code",
   "execution_count": null,
   "id": "14f74d09-2712-441a-a649-406a0a5cd880",
   "metadata": {},
   "outputs": [],
   "source": [
    "###############################################################################\n",
    "##Also add this column to our numerical columns list\n",
    "#num.append('Total Time Spent on Website')"
   ]
  },
  {
   "cell_type": "code",
   "execution_count": null,
   "id": "b46fe0e8-e061-4cf5-ba56-0e8180de1422",
   "metadata": {},
   "outputs": [],
   "source": [
    "Since we also look at the boxplots and percentiles for numberical numbers, lets create a similar details function to include these two pieces of information."
   ]
  },
  {
   "cell_type": "code",
   "execution_count": null,
   "id": "12c81048-63ba-4c9e-ac0a-22f2b4c4d933",
   "metadata": {},
   "outputs": [],
   "source": [
    "def num_details(x):\n",
    "    print(df[x].value_counts())\n",
    "    print(df[x].isnull().sum(),'null values')\n",
    "    print(df[x].isnull().sum()/df.count()[x]*100,'% values are null')\n",
    "    print('Percentiles are as follows')\n",
    "    print(df[x].quantile([0.50,0.95,0.96,0.97,0.98,0.99]))\n",
    "    sns.boxplot(df[x])"
   ]
  },
  {
   "cell_type": "code",
   "execution_count": null,
   "id": "bd555788-2dbd-4230-80fd-eddb7f06110e",
   "metadata": {},
   "outputs": [],
   "source": [
    "#Lets look at column Page Views Per Visit\n",
    "num_details('Page Views Per Visit')"
   ]
  },
  {
   "cell_type": "code",
   "execution_count": null,
   "id": "00debabc-e02f-4fdb-8860-a0604bfd7392",
   "metadata": {},
   "outputs": [],
   "source": [
    "df[df['Page Views Per Visit'].isnull()]['Page Views Per Visit'] = df['Page Views Per Visit'].mode()[0]\n",
    "cap('Page Views Per Visit')\n",
    "#Also add this column to our numerical columns list\n",
    "num.append('Page Views Per Visit')"
   ]
  },
  {
   "cell_type": "code",
   "execution_count": null,
   "id": "007a2b3f-d286-4d46-b06a-7439f5b61334",
   "metadata": {},
   "outputs": [],
   "source": [
    "details('Last Activity')"
   ]
  },
  {
   "cell_type": "code",
   "execution_count": null,
   "id": "38c91d84-c63b-4342-8cf2-72c2beafcb10",
   "metadata": {},
   "outputs": [],
   "source": [
    "################################################\n",
    "##Also add this column to our numerical columns list\n",
    "#num.append('Last Activity')"
   ]
  },
  {
   "cell_type": "code",
   "execution_count": null,
   "id": "a9ac7ffb-d77f-4120-9a88-e799ef803dfd",
   "metadata": {},
   "outputs": [],
   "source": [
    "#Lets have a look at the column 'Country'\n",
    "details('Country')"
   ]
  },
  {
   "cell_type": "code",
   "execution_count": null,
   "id": "6d7fdfff-5b99-4af7-841b-996adfad9292",
   "metadata": {},
   "outputs": [],
   "source": [
    "There are 27 percent null values in this column, and other values are mostly India, so this column would not be that useful,\n",
    "we could create a binary column using this like 'India' if there weren't so many null values here. but considering the null values, lets drop this column"
   ]
  },
  {
   "cell_type": "code",
   "execution_count": null,
   "id": "7bb1f994-09eb-47f7-b903-9a5ddcf943d1",
   "metadata": {},
   "outputs": [],
   "source": [
    "df.drop('Country', axis =1, inplace = True)"
   ]
  },
  {
   "cell_type": "code",
   "execution_count": null,
   "id": "e94c1d69-9676-4ec4-a5f2-83336db067f5",
   "metadata": {},
   "outputs": [],
   "source": [
    "details('Specialization')"
   ]
  },
  {
   "cell_type": "code",
   "execution_count": null,
   "id": "43d40bea-e51a-4b2e-ac38-a48f88d55bfa",
   "metadata": {},
   "outputs": [],
   "source": [
    "#####################################################"
   ]
  },
  {
   "cell_type": "code",
   "execution_count": null,
   "id": "f968d315-a250-4766-8015-37f7980f406b",
   "metadata": {},
   "outputs": [],
   "source": [
    "details('How did you hear about X Education')"
   ]
  },
  {
   "cell_type": "code",
   "execution_count": null,
   "id": "5bd4707e-abfd-4e9c-a48f-868809a96d5c",
   "metadata": {},
   "outputs": [],
   "source": [
    "There are too many null values in this as well, and the most values are also not selected I think, because the option says default value 'Select', lets drop this column as well"
   ]
  },
  {
   "cell_type": "code",
   "execution_count": null,
   "id": "481d1aa4-a9d5-4b41-a5bb-a3c3f6f6cf37",
   "metadata": {},
   "outputs": [],
   "source": [
    "df.drop('How did you hear about X Education', axis =1, inplace = True)"
   ]
  },
  {
   "cell_type": "code",
   "execution_count": null,
   "id": "14bbacef-f6d8-4880-b2ea-4230698222e4",
   "metadata": {},
   "outputs": [],
   "source": [
    "details('What is your current occupation')"
   ]
  },
  {
   "cell_type": "code",
   "execution_count": null,
   "id": "57e694ac-7ddb-4226-b623-a3dc9406821c",
   "metadata": {},
   "outputs": [],
   "source": [
    "###################################"
   ]
  },
  {
   "cell_type": "code",
   "execution_count": null,
   "id": "2d67e9c5-e5e4-4827-9547-534afed7895a",
   "metadata": {},
   "outputs": [],
   "source": [
    "details('What matters most to you in choosing a course')"
   ]
  },
  {
   "cell_type": "code",
   "execution_count": null,
   "id": "f8349f05-c09c-4aa8-b4c2-d0eb3e74c17a",
   "metadata": {},
   "outputs": [],
   "source": [
    "################################"
   ]
  },
  {
   "cell_type": "code",
   "execution_count": null,
   "id": "d9ff1033-dde5-4d56-95f6-b8fd14dc3435",
   "metadata": {},
   "outputs": [],
   "source": [
    "details('Search')"
   ]
  },
  {
   "cell_type": "code",
   "execution_count": null,
   "id": "aeecd3a8-b4ea-436c-8e95-67c20eb4b179",
   "metadata": {},
   "outputs": [],
   "source": [
    "details('Magazine')"
   ]
  },
  {
   "cell_type": "code",
   "execution_count": null,
   "id": "63503506-abaa-4510-89d9-a68da049616c",
   "metadata": {},
   "outputs": [],
   "source": [
    "details('Newspaper Article')"
   ]
  },
  {
   "cell_type": "code",
   "execution_count": null,
   "id": "2564ff8c-d58e-4571-8467-a794f1d58cb6",
   "metadata": {},
   "outputs": [],
   "source": [
    "details('X Education Forums')"
   ]
  },
  {
   "cell_type": "code",
   "execution_count": null,
   "id": "7ae405ec-f937-4359-bca0-96ca641226f0",
   "metadata": {},
   "outputs": [],
   "source": [
    "details('Newspaper')"
   ]
  },
  {
   "cell_type": "code",
   "execution_count": null,
   "id": "7e711607-2f12-4717-aa64-3ada8916e121",
   "metadata": {},
   "outputs": [],
   "source": [
    "details('Digital Advertisement')"
   ]
  },
  {
   "cell_type": "code",
   "execution_count": null,
   "id": "2b9c0461-3e18-4a2e-a318-53699b870cc0",
   "metadata": {},
   "outputs": [],
   "source": [
    "All these columns have high imbalance, and mostly have only one value i.e. No. So it doesn't make sense to keep these column,\n",
    "Lets delete these column"
   ]
  },
  {
   "cell_type": "code",
   "execution_count": null,
   "id": "244d1bdb-c0df-429f-aec3-994565fe23e2",
   "metadata": {},
   "outputs": [],
   "source": [
    "#Lets look at the column 'Through Recommendation'\n",
    "details('Through Recommendations')"
   ]
  },
  {
   "cell_type": "code",
   "execution_count": null,
   "id": "4d06fbd2-006b-48d2-b8c2-5b0d87ec2267",
   "metadata": {},
   "outputs": [],
   "source": [
    "details('Receive More Updates About Our Courses')"
   ]
  },
  {
   "cell_type": "code",
   "execution_count": null,
   "id": "985810de-4dc5-45be-b8f8-982109ce42ad",
   "metadata": {},
   "outputs": [],
   "source": [
    "details('Receive More Updates About Our Courses')"
   ]
  },
  {
   "cell_type": "code",
   "execution_count": null,
   "id": "1725dc1c-2994-431d-a019-0fcb2c1a805e",
   "metadata": {},
   "outputs": [],
   "source": [
    "df.drop(['Search','Magazine','Newspaper Article','X Education Forums','Newspaper','Digital Advertisement','Through Recommendations','Receive More Updates About Our Courses'],axis=1,inplace = True)"
   ]
  },
  {
   "cell_type": "code",
   "execution_count": null,
   "id": "bd909034-cc5a-4fe3-8224-9eebf3ac563d",
   "metadata": {},
   "outputs": [],
   "source": [
    "details('Tags')"
   ]
  },
  {
   "cell_type": "code",
   "execution_count": null,
   "id": "4e1de09c-23d2-4a96-b7b0-cc01c1e6729f",
   "metadata": {},
   "outputs": [],
   "source": [
    "##################"
   ]
  },
  {
   "cell_type": "code",
   "execution_count": null,
   "id": "7b59b1ce-74f1-415e-8a36-180b1e841e4e",
   "metadata": {},
   "outputs": [],
   "source": [
    "details('Lead Quality')"
   ]
  },
  {
   "cell_type": "code",
   "execution_count": null,
   "id": "c5ccaf36-e02b-4433-8d9c-cf4abd5a1f30",
   "metadata": {},
   "outputs": [],
   "source": [
    "#####################"
   ]
  },
  {
   "cell_type": "code",
   "execution_count": null,
   "id": "715e03bd-d0a5-401f-a409-f3b73597b1c0",
   "metadata": {},
   "outputs": [],
   "source": [
    "details('Update me on Supply Chain Content')"
   ]
  },
  {
   "cell_type": "code",
   "execution_count": null,
   "id": "05f9cb47-7fd7-478b-a551-b3ea6e838880",
   "metadata": {},
   "outputs": [],
   "source": [
    "# There's only singular value in this, so lets drop this column\n",
    "df.drop('Update me on Supply Chain Content', axis=1, inplace = True)"
   ]
  },
  {
   "cell_type": "code",
   "execution_count": null,
   "id": "1b9e708b-17c4-4004-86ad-4fd901366f93",
   "metadata": {},
   "outputs": [],
   "source": [
    "details('Get updates on DM Content')"
   ]
  },
  {
   "cell_type": "code",
   "execution_count": null,
   "id": "00aaeb93-bfc8-4683-bf5d-f509acb685f1",
   "metadata": {},
   "outputs": [],
   "source": [
    "# There's only singular value in this, so lets drop this column\n",
    "df.drop('Get updates on DM Content', axis=1, inplace = True)"
   ]
  },
  {
   "cell_type": "code",
   "execution_count": null,
   "id": "cfc9e4ba-6085-4fd6-a8b0-f3a6f106a04b",
   "metadata": {},
   "outputs": [],
   "source": [
    "details('Lead Profile')"
   ]
  },
  {
   "cell_type": "code",
   "execution_count": null,
   "id": "a0769d1c-f712-47fb-94ca-3c41edfbfe2a",
   "metadata": {},
   "outputs": [],
   "source": [
    "##########################"
   ]
  },
  {
   "cell_type": "code",
   "execution_count": null,
   "id": "7cf1de58-e448-4b47-bb83-09256d07fde2",
   "metadata": {},
   "outputs": [],
   "source": [
    "details('City')"
   ]
  },
  {
   "cell_type": "code",
   "execution_count": null,
   "id": "4ac45d60-5e99-49c8-b74c-4bc8ca94649f",
   "metadata": {},
   "outputs": [],
   "source": [
    "###################"
   ]
  },
  {
   "cell_type": "code",
   "execution_count": null,
   "id": "fcaf6941-8724-407e-ad44-bea89dfbffde",
   "metadata": {},
   "outputs": [],
   "source": [
    "details('Asymmetrique Activity Index')"
   ]
  },
  {
   "cell_type": "code",
   "execution_count": null,
   "id": "c147ae98-bc7d-4f35-99bc-43a9c69b1b44",
   "metadata": {},
   "outputs": [],
   "source": [
    "#################"
   ]
  },
  {
   "cell_type": "code",
   "execution_count": null,
   "id": "3fd22821-b936-458a-950a-b02422367653",
   "metadata": {},
   "outputs": [],
   "source": [
    "details('Asymmetrique Profile Index')"
   ]
  },
  {
   "cell_type": "code",
   "execution_count": null,
   "id": "8f1fae55-e5d1-4e48-a682-18c25bb95e04",
   "metadata": {},
   "outputs": [],
   "source": [
    "################"
   ]
  },
  {
   "cell_type": "code",
   "execution_count": null,
   "id": "e1f0ed38-3f66-44e0-ad63-379290e847ce",
   "metadata": {},
   "outputs": [],
   "source": [
    "details('Asymmetrique Activity Score')"
   ]
  },
  {
   "cell_type": "code",
   "execution_count": null,
   "id": "2ee128b7-4146-48c6-b4f6-20b93b75b997",
   "metadata": {},
   "outputs": [],
   "source": [
    "#################"
   ]
  },
  {
   "cell_type": "code",
   "execution_count": null,
   "id": "b28625a2-7297-49c5-a7d9-0965d1a16922",
   "metadata": {},
   "outputs": [],
   "source": [
    "details('I agree to pay the amount through cheque')"
   ]
  },
  {
   "cell_type": "code",
   "execution_count": null,
   "id": "a0b03b5e-97a0-4520-a24c-60c81d5249be",
   "metadata": {},
   "outputs": [],
   "source": [
    "# There's only singular value in this, so lets drop this column\n",
    "df.drop('I agree to pay the amount through cheque', axis=1, inplace = True)"
   ]
  },
  {
   "cell_type": "code",
   "execution_count": null,
   "id": "b34eebbf-3319-406f-a925-0ad42fc9bea5",
   "metadata": {},
   "outputs": [],
   "source": [
    "details('A free copy of Mastering The Interview')"
   ]
  },
  {
   "cell_type": "code",
   "execution_count": null,
   "id": "447398e4-d5d3-482f-ba3e-6629a62ca9fd",
   "metadata": {},
   "outputs": [],
   "source": [
    "we'll leave this column as is for now, and add this to a new list of binary categorical variables"
   ]
  },
  {
   "cell_type": "code",
   "execution_count": null,
   "id": "c7edc999-be80-4389-b10d-d235e6865f94",
   "metadata": {},
   "outputs": [],
   "source": [
    "bi_cat.append('A free copy of Mastering The Interview')"
   ]
  },
  {
   "cell_type": "code",
   "execution_count": null,
   "id": "fe42736e-a70b-41b8-bf4e-529e7b75c630",
   "metadata": {},
   "outputs": [],
   "source": [
    "details('Last Notable Activity')"
   ]
  },
  {
   "cell_type": "code",
   "execution_count": null,
   "id": "569e7927-4b1a-473c-86aa-a12e9d0891c1",
   "metadata": {},
   "outputs": [],
   "source": [
    "##############################"
   ]
  },
  {
   "cell_type": "code",
   "execution_count": null,
   "id": "2684ea34-6977-4488-8e58-941a17fdcac0",
   "metadata": {},
   "outputs": [],
   "source": [
    "#Lets have a look at our three categories of column\n",
    "print(cat)\n",
    "print(num)\n",
    "print(bi_cat)"
   ]
  },
  {
   "cell_type": "code",
   "execution_count": null,
   "id": "deed1d85-aaff-42e8-8d31-a335ca4ec45f",
   "metadata": {},
   "outputs": [],
   "source": [
    "df.head(1)"
   ]
  },
  {
   "cell_type": "code",
   "execution_count": null,
   "id": "18c501c2-9246-45cd-b0eb-b4d7b636f9b4",
   "metadata": {},
   "outputs": [],
   "source": []
  },
  {
   "cell_type": "code",
   "execution_count": null,
   "id": "1560e175-53c8-4a7a-98ae-22141c45aa4a",
   "metadata": {},
   "outputs": [],
   "source": []
  },
  {
   "cell_type": "code",
   "execution_count": null,
   "id": "6114bb8a-77db-4bcd-92fd-ee21aa6103a8",
   "metadata": {},
   "outputs": [],
   "source": []
  },
  {
   "cell_type": "code",
   "execution_count": null,
   "id": "196dd3de-148e-4829-adc8-707fda89f0d2",
   "metadata": {},
   "outputs": [],
   "source": []
  },
  {
   "cell_type": "code",
   "execution_count": null,
   "id": "0cc16696-fdcf-40c2-b84b-7f7e2a7cb678",
   "metadata": {},
   "outputs": [],
   "source": []
  },
  {
   "cell_type": "code",
   "execution_count": null,
   "id": "53a79289-1e5c-4992-9bb7-baf429fb7ddc",
   "metadata": {},
   "outputs": [],
   "source": []
  },
  {
   "cell_type": "code",
   "execution_count": null,
   "id": "87cfdf21-0a8d-42f0-9bc0-ca8ebab327a2",
   "metadata": {},
   "outputs": [],
   "source": []
  },
  {
   "cell_type": "code",
   "execution_count": null,
   "id": "1f523c36-e0dd-4309-92bc-6514b2061edb",
   "metadata": {},
   "outputs": [],
   "source": []
  },
  {
   "cell_type": "code",
   "execution_count": null,
   "id": "299beaad-0dfb-4bcf-bdd5-8599db693bef",
   "metadata": {},
   "outputs": [],
   "source": []
  },
  {
   "cell_type": "code",
   "execution_count": null,
   "id": "b97d41a2-f72e-4af9-bdbb-5a121fdccb5c",
   "metadata": {},
   "outputs": [],
   "source": []
  },
  {
   "cell_type": "code",
   "execution_count": null,
   "id": "87dfa5eb-550a-43f2-a72c-e1f493e54dc5",
   "metadata": {},
   "outputs": [],
   "source": []
  },
  {
   "cell_type": "code",
   "execution_count": null,
   "id": "42f790d3-b471-4e4d-ac5e-e87ae1e67303",
   "metadata": {},
   "outputs": [],
   "source": []
  },
  {
   "cell_type": "code",
   "execution_count": null,
   "id": "cc8f8010-0a2d-4ec5-ae19-c4b7d877cafa",
   "metadata": {},
   "outputs": [],
   "source": []
  },
  {
   "cell_type": "code",
   "execution_count": null,
   "id": "8b9d51a4-fe6f-4c74-9377-ffd293fd3805",
   "metadata": {},
   "outputs": [],
   "source": []
  },
  {
   "cell_type": "code",
   "execution_count": null,
   "id": "a64a0836-f7db-43c2-8373-b251489588a5",
   "metadata": {},
   "outputs": [],
   "source": []
  },
  {
   "cell_type": "code",
   "execution_count": null,
   "id": "98a7f03e-5f49-40d1-aa22-17e26e05a52d",
   "metadata": {},
   "outputs": [],
   "source": []
  },
  {
   "cell_type": "code",
   "execution_count": null,
   "id": "1e4c5285-61dc-4738-b550-0f47983a99d7",
   "metadata": {},
   "outputs": [],
   "source": []
  },
  {
   "cell_type": "code",
   "execution_count": null,
   "id": "f3ccab76-1a24-413d-9e03-0b6b3da93d59",
   "metadata": {},
   "outputs": [],
   "source": []
  },
  {
   "cell_type": "code",
   "execution_count": null,
   "id": "52de3ead-c9d7-4a78-bc39-35ebfce34388",
   "metadata": {},
   "outputs": [],
   "source": []
  },
  {
   "cell_type": "code",
   "execution_count": null,
   "id": "1af01a56-7a92-489c-88d3-67e6a66b813d",
   "metadata": {},
   "outputs": [],
   "source": []
  }
 ],
 "metadata": {
  "kernelspec": {
   "display_name": "Python 3 (ipykernel)",
   "language": "python",
   "name": "python3"
  },
  "language_info": {
   "codemirror_mode": {
    "name": "ipython",
    "version": 3
   },
   "file_extension": ".py",
   "mimetype": "text/x-python",
   "name": "python",
   "nbconvert_exporter": "python",
   "pygments_lexer": "ipython3",
   "version": "3.11.7"
  }
 },
 "nbformat": 4,
 "nbformat_minor": 5
}
